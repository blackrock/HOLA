{
 "cells": [
  {
   "cell_type": "code",
   "execution_count": 1,
   "metadata": {},
   "outputs": [],
   "source": [
    "import requests"
   ]
  },
  {
   "cell_type": "code",
   "execution_count": 2,
   "metadata": {},
   "outputs": [],
   "source": [
    "SERVER_ADDR = \"http://localhost:8675\""
   ]
  },
  {
   "cell_type": "code",
   "execution_count": 3,
   "metadata": {},
   "outputs": [],
   "source": [
    "resp = requests.get(SERVER_ADDR+'/report_request/5')"
   ]
  },
  {
   "cell_type": "code",
   "execution_count": 4,
   "metadata": {},
   "outputs": [
    {
     "data": {
      "text/plain": [
       "[{'n_estimators': 88,\n",
       "  'max_depth': 4.0,\n",
       "  'learning_rate': 0.0015680841554576296,\n",
       "  'subsample': 0.7663911111652852},\n",
       " {'n_estimators': 33,\n",
       "  'max_depth': 1.0,\n",
       "  'learning_rate': 0.33003168837990726,\n",
       "  'subsample': 0.37922827005386356},\n",
       " {'n_estimators': 10,\n",
       "  'max_depth': 3.0,\n",
       "  'learning_rate': 0.00014827125244468213,\n",
       "  'subsample': 0.9504015445709229},\n",
       " {'n_estimators': 379,\n",
       "  'max_depth': 2.0,\n",
       "  'learning_rate': 0.04106118263855263,\n",
       "  'subsample': 0.5883334398269653},\n",
       " {'n_estimators': 615,\n",
       "  'max_depth': 3.0,\n",
       "  'learning_rate': 0.16726758956244514,\n",
       "  'subsample': 0.4671766757965088}]"
      ]
     },
     "execution_count": 4,
     "metadata": {},
     "output_type": "execute_result"
    }
   ],
   "source": [
    "resp.json()"
   ]
  },
  {
   "cell_type": "code",
   "execution_count": 5,
   "metadata": {},
   "outputs": [],
   "source": [
    "resp = requests.post(SERVER_ADDR+'/report_request/5', json={})"
   ]
  },
  {
   "cell_type": "code",
   "execution_count": 6,
   "metadata": {},
   "outputs": [
    {
     "data": {
      "text/plain": [
       "[{'n_estimators': 16,\n",
       "  'max_depth': 2.0,\n",
       "  'learning_rate': 0.0036499725272428375,\n",
       "  'subsample': 0.8784636974334716},\n",
       " {'n_estimators': 69,\n",
       "  'max_depth': 4.0,\n",
       "  'learning_rate': 0.01345208687324873,\n",
       "  'subsample': 0.25118690729141235},\n",
       " {'n_estimators': 183,\n",
       "  'max_depth': 1.0,\n",
       "  'learning_rate': 0.00038623539786303025,\n",
       "  'subsample': 0.6875683307647705},\n",
       " {'n_estimators': 233,\n",
       "  'max_depth': 3.0,\n",
       "  'learning_rate': 0.02306905042853321,\n",
       "  'subsample': 0.8297646045684814},\n",
       " {'n_estimators': 69,\n",
       "  'max_depth': 2.0,\n",
       "  'learning_rate': 0.0008217450664548215,\n",
       "  'subsample': 0.41839537620544437}]"
      ]
     },
     "execution_count": 6,
     "metadata": {},
     "output_type": "execute_result"
    }
   ],
   "source": [
    "resp.json()"
   ]
  },
  {
   "cell_type": "code",
   "execution_count": 7,
   "metadata": {},
   "outputs": [],
   "source": [
    "params = {'n_estimators': 26,\n",
    "  'max_depth': 3,\n",
    "  'learning_rate': 0.000399024527444605,\n",
    "  'subsample': 0.9736103229962085}"
   ]
  },
  {
   "cell_type": "code",
   "execution_count": 8,
   "metadata": {},
   "outputs": [],
   "source": [
    "result = {\n",
    "    \"r_squared\":1,\n",
    "    \"abs_error\":0\n",
    "}"
   ]
  },
  {
   "cell_type": "code",
   "execution_count": 9,
   "metadata": {},
   "outputs": [],
   "source": [
    "data = [{\"params\":params, \"objectives\":result},{\"params\":params, \"objectives\":result}]\n",
    "resp = requests.post(SERVER_ADDR+'/report_request/4', json=data)"
   ]
  },
  {
   "cell_type": "code",
   "execution_count": 10,
   "metadata": {},
   "outputs": [
    {
     "data": {
      "text/plain": [
       "[{'n_estimators': 26,\n",
       "  'max_depth': 4.0,\n",
       "  'learning_rate': 0.18625870006768203,\n",
       "  'subsample': 0.6393611431121826},\n",
       " {'n_estimators': 784,\n",
       "  'max_depth': 1.0,\n",
       "  'learning_rate': 0.008968654992003024,\n",
       "  'subsample': 0.20308633446693422},\n",
       " {'n_estimators': 379,\n",
       "  'max_depth': 4.0,\n",
       "  'learning_rate': 0.00022040783510458614,\n",
       "  'subsample': 0.3305610299110413},\n",
       " {'n_estimators': 12,\n",
       "  'max_depth': 1.0,\n",
       "  'learning_rate': 0.07574691807676699,\n",
       "  'subsample': 0.717616891860962}]"
      ]
     },
     "execution_count": 10,
     "metadata": {},
     "output_type": "execute_result"
    }
   ],
   "source": [
    "resp.json()"
   ]
  },
  {
   "cell_type": "code",
   "execution_count": null,
   "metadata": {},
   "outputs": [],
   "source": []
  },
  {
   "cell_type": "code",
   "execution_count": null,
   "metadata": {},
   "outputs": [],
   "source": []
  }
 ],
 "metadata": {
  "kernelspec": {
   "display_name": "Python [conda env:laho]",
   "language": "python",
   "name": "conda-env-laho-py"
  },
  "language_info": {
   "codemirror_mode": {
    "name": "ipython",
    "version": 3
   },
   "file_extension": ".py",
   "mimetype": "text/x-python",
   "name": "python",
   "nbconvert_exporter": "python",
   "pygments_lexer": "ipython3",
   "version": "3.8.12"
  }
 },
 "nbformat": 4,
 "nbformat_minor": 2
}

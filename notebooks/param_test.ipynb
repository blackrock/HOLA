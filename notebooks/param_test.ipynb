{
 "cells": [
  {
   "cell_type": "code",
   "execution_count": null,
   "metadata": {},
   "outputs": [],
   "source": [
    "import numpy as np\n",
    "\n",
    "import os\n",
    "import sys\n",
    "sys.path.append(os.path.abspath('..'))\n",
    "\n",
    "from hola.params import transform_param, back_transform_param"
   ]
  },
  {
   "cell_type": "code",
   "execution_count": null,
   "metadata": {},
   "outputs": [],
   "source": [
    "MIN = 10\n",
    "MAX = 1000"
   ]
  },
  {
   "cell_type": "code",
   "execution_count": null,
   "metadata": {},
   "outputs": [],
   "source": [
    "for i in range(5):\n",
    "    u = np.random.rand()\n",
    "    x = transform_param(u,MIN,MAX,param_type=\"float\",scale=\"linear\")\n",
    "    u_ = back_transform_param(x,MIN,MAX,param_type=\"float\",scale=\"linear\")\n",
    "    print(u,x,u_)"
   ]
  },
  {
   "cell_type": "code",
   "execution_count": 4,
   "metadata": {},
   "outputs": [
    {
     "name": "stdout",
     "output_type": "stream",
     "text": [
      "0.9136939160203162 914 0.9131313131313131\n",
      "0.35931104479203135 365 0.35858585858585856\n",
      "0.7163579986013819 719 0.7161616161616161\n",
      "0.4189875196970305 424 0.41818181818181815\n",
      "0.7658493060886546 768 0.7656565656565657\n"
     ]
    }
   ],
   "source": [
    "for i in range(5):\n",
    "    u = np.random.rand()\n",
    "    x = transform_param(u,MIN,MAX,param_type=\"int\",scale=\"linear\")\n",
    "    u_ = back_transform_param(x,MIN,MAX,param_type=\"int\",scale=\"linear\")\n",
    "    \n",
    "    print(u,x,u_)"
   ]
  },
  {
   "cell_type": "code",
   "execution_count": 5,
   "metadata": {},
   "outputs": [
    {
     "name": "stdout",
     "output_type": "stream",
     "text": [
      "0.8694655209952262 548.1899154917221 0.8694655209952261\n",
      "0.6803866763599232 229.4950658970653 0.6803866763599232\n",
      "0.29725473098767174 39.31058094117664 0.2972547309876717\n",
      "0.8629575171720184 532.0041674421992 0.8629575171720184\n",
      "0.06349321057268931 13.396348011221697 0.06349321057268931\n"
     ]
    }
   ],
   "source": [
    "for i in range(5):\n",
    "    u = np.random.rand()\n",
    "    x = transform_param(u,MIN,MAX,param_type=\"float\",scale=\"log\")\n",
    "    u_ = back_transform_param(x,MIN,MAX,param_type=\"float\",scale=\"log\")\n",
    "    print(u,x,u_)"
   ]
  },
  {
   "cell_type": "code",
   "execution_count": 6,
   "metadata": {},
   "outputs": [
    {
     "name": "stdout",
     "output_type": "stream",
     "text": [
      "0.3636500284511355 53 0.3621379348003945\n",
      "0.69262109594855 242 0.6919076829902158\n",
      "0.1582806436049098 20 0.15051499783199054\n",
      "0.8106321964024416 418 0.8105881408875176\n",
      "0.19372039674412644 24 0.19010562085580301\n"
     ]
    }
   ],
   "source": [
    "for i in range(5):\n",
    "    u = np.random.rand()\n",
    "    x = transform_param(u,MIN,MAX,param_type=\"int\",scale=\"log\")\n",
    "    u_ = back_transform_param(x,MIN,MAX,param_type=\"int\",scale=\"log\")\n",
    "    print(u,x,u_)"
   ]
  },
  {
   "cell_type": "code",
   "execution_count": 7,
   "metadata": {},
   "outputs": [
    {
     "name": "stdout",
     "output_type": "stream",
     "text": [
      "0.7300026794912055 670.0 0.6666666666666666\n",
      "0.6706182126735781 670.0 0.6666666666666666\n",
      "0.821437246443986 670.0 0.6666666666666666\n",
      "0.6399885301563973 340.0 0.3333333333333333\n",
      "0.9254834790929696 670.0 0.6666666666666666\n"
     ]
    }
   ],
   "source": [
    "for i in range(5):\n",
    "    u = np.random.rand()\n",
    "    x = transform_param(u,MIN,MAX,param_type=\"float\",scale=\"linear\", grid=4)\n",
    "    u_ = back_transform_param(x,MIN,MAX,param_type=\"float\",scale=\"linear\", grid=4)\n",
    "    print(u,x,u_)"
   ]
  },
  {
   "cell_type": "code",
   "execution_count": 8,
   "metadata": {},
   "outputs": [
    {
     "name": "stdout",
     "output_type": "stream",
     "text": [
      "0.4511512949712382 46.41588833612781 0.33333333333333337\n",
      "0.13254122035755755 10.000000000000002 0.0\n",
      "0.5974034134978161 46.41588833612781 0.33333333333333337\n",
      "0.3985321058518685 46.41588833612781 0.33333333333333337\n",
      "0.2660553869120117 10.000000000000002 0.0\n"
     ]
    }
   ],
   "source": [
    "for i in range(5):\n",
    "    u = np.random.rand()\n",
    "    x = transform_param(u,MIN,MAX,param_type=\"float\",scale=\"log\", grid=4)\n",
    "    u_ = back_transform_param(x,MIN,MAX,param_type=\"float\",scale=\"log\", grid=4)\n",
    "    print(u,x,u_)"
   ]
  },
  {
   "cell_type": "code",
   "execution_count": 9,
   "metadata": {},
   "outputs": [
    {
     "name": "stdout",
     "output_type": "stream",
     "text": [
      "0.40824103203618867 46 0.33137891584078705\n",
      "0.7582744823130674 215 0.6662192299578026\n",
      "0.5874386923422635 46 0.33137891584078705\n",
      "0.341260192161129 46 0.33137891584078705\n",
      "0.05498038875962796 10 0.0\n"
     ]
    }
   ],
   "source": [
    "for i in range(5):\n",
    "    u = np.random.rand()\n",
    "    x = transform_param(u,MIN,MAX,param_type=\"int\",scale=\"log\", grid=4)\n",
    "    u_ = back_transform_param(x,MIN,MAX,param_type=\"int\",scale=\"log\", grid=4)\n",
    "    print(u,x,u_)"
   ]
  },
  {
   "cell_type": "code",
   "execution_count": 10,
   "metadata": {},
   "outputs": [
    {
     "name": "stdout",
     "output_type": "stream",
     "text": [
      "0.02436377825793501 1 0.02998316430318898\n",
      "0.7802391346927615 4 0.7608225054676885\n",
      "0.3778658949158743 2 0.44548770494829415\n",
      "0.34736782625368434 2 0.40527892376010005\n",
      "0.6039518996915134 3 0.5801751423542804\n"
     ]
    }
   ],
   "source": [
    "for i in range(5):\n",
    "    u = np.random.rand()\n",
    "    x = transform_param(u,MIN,MAX,param_type=\"int\",scale=\"log\", grid=4, values=[1,2,3,4])\n",
    "    u_ = back_transform_param(x,MIN,MAX,param_type=\"int\",scale=\"log\", grid=4, values=[1,2,3,4])\n",
    "    print(u,x,u_)"
   ]
  },
  {
   "cell_type": "code",
   "execution_count": null,
   "metadata": {},
   "outputs": [],
   "source": []
  },
  {
   "cell_type": "code",
   "execution_count": null,
   "metadata": {},
   "outputs": [],
   "source": []
  },
  {
   "cell_type": "code",
   "execution_count": null,
   "metadata": {},
   "outputs": [],
   "source": []
  }
 ],
 "metadata": {
  "kernelspec": {
   "display_name": "Python [conda env:laho]",
   "language": "python",
   "name": "conda-env-laho-py"
  },
  "language_info": {
   "codemirror_mode": {
    "name": "ipython",
    "version": 3
   },
   "file_extension": ".py",
   "mimetype": "text/x-python",
   "name": "python",
   "nbconvert_exporter": "python",
   "pygments_lexer": "ipython3",
   "version": "3.8.12"
  }
 },
 "nbformat": 4,
 "nbformat_minor": 2
}

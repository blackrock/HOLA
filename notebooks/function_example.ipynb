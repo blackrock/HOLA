{
 "cells": [
  {
   "cell_type": "code",
   "execution_count": 1,
   "metadata": {},
   "outputs": [],
   "source": [
    "from sklearn.ensemble import GradientBoostingRegressor\n",
    "import numpy as np\n",
    "\n",
    "import matplotlib.pyplot as plt\n",
    "import os\n",
    "import sys\n",
    "sys.path.append(os.path.abspath('..'))\n",
    "\n",
    "plt.rcParams.update({'font.size': 12})\n",
    "from hola.tune import Tuner\n",
    "\n",
    "import matplotlib.animation as animation\n",
    "from matplotlib.animation import PillowWriter\n",
    "\n",
    "np.random.seed(4)"
   ]
  },
  {
   "cell_type": "code",
   "execution_count": 2,
   "metadata": {},
   "outputs": [],
   "source": [
    "N = 60\n",
    "\n",
    "params_config = {\n",
    "    \"x1\":{\n",
    "        \"min\":0.0,\n",
    "        \"max\":1.0\n",
    "    },\n",
    "    \"x2\":{\n",
    "        \"min\":0.0,\n",
    "        \"max\":1.0\n",
    "    }\n",
    "}\n",
    "\n",
    "objectives_config = {\n",
    "    \"f\":{\n",
    "        \"target\":1.0,\n",
    "        \"limit\":0.0,\n",
    "        \"priority\":1.0\n",
    "    }\n",
    "}"
   ]
  },
  {
   "cell_type": "code",
   "execution_count": 3,
   "metadata": {},
   "outputs": [],
   "source": [
    "#k1 = 2\n",
    "#k2 = 2\n",
    "\n",
    "#def func(x1,x2):\n",
    "#    return 0.5*(2*(x1 + x2) + np.sin(2*np.pi*k1*x1) + np.sin(2*np.pi*k2*x2))\n",
    "# a = 1\n",
    "# b = 5\n",
    "# def func(x1,x2):\n",
    "#     return -((a-x1)**2+b*(x2-x1**2)**2)\n",
    "\n",
    "# a = 1.5\n",
    "# def func(x1,x2):\n",
    "#     return np.exp(-(x1*x2-a)**2-(x2-a)**2)\n",
    "\n",
    "a1 = 1.25\n",
    "a2 = 4\n",
    "mu = np.array([0.3,0.25])\n",
    "sig = 1.0\n",
    "def func(x1,x2):\n",
    "    z = np.array([x1**a1,x2**a2])\n",
    "    s = z-mu\n",
    "    return np.exp(-(s.T.dot(s)/(0.015*x1*x2)))"
   ]
  },
  {
   "cell_type": "code",
   "execution_count": 4,
   "metadata": {},
   "outputs": [
    {
     "name": "stderr",
     "output_type": "stream",
     "text": [
      "/var/folders/x3/m3dk89cj2kz39h6hck1t4m840000gp/T/ipykernel_40149/3290472698.py:22: RuntimeWarning: divide by zero encountered in double_scalars\n",
      "  return np.exp(-(s.T.dot(s)/(0.015*x1*x2)))\n"
     ]
    }
   ],
   "source": [
    "x1 = np.linspace(0,1,N)\n",
    "x2 = np.linspace(0,1,N)\n",
    "\n",
    "f = np.zeros((N,N))\n",
    "\n",
    "for i,x in enumerate(x1):\n",
    "    for j,y in enumerate(x2):\n",
    "        f[i,j] = func(x,y)"
   ]
  },
  {
   "cell_type": "code",
   "execution_count": 5,
   "metadata": {},
   "outputs": [
    {
     "data": {
      "image/png": "[encoded data removed]",
      "text/plain": [
       "<Figure size 576x576 with 2 Axes>"
      ]
     },
     "metadata": {
      "needs_background": "light"
     },
     "output_type": "display_data"
    }
   ],
   "source": [
    "plt.figure(figsize=(8,8))\n",
    "plt.imshow(f, extent=[0,1,1,0])\n",
    "plt.xlabel('x1')\n",
    "plt.ylabel('x2')\n",
    "#plt.title('Portfolio IR')\n",
    "plt.colorbar()\n",
    "plt.grid(False)\n",
    "plt.show()"
   ]
  },
  {
   "cell_type": "code",
   "execution_count": 6,
   "metadata": {},
   "outputs": [],
   "source": [
    "def run(x1, x2):\n",
    "    \n",
    "    f = func(x1,x2) \n",
    "    \n",
    "    return {\"f\":f}"
   ]
  },
  {
   "cell_type": "code",
   "execution_count": 7,
   "metadata": {},
   "outputs": [
    {
     "ename": "TypeError",
     "evalue": "__init__() got an unexpected keyword argument 'min_samples'",
     "output_type": "error",
     "traceback": [
      "\u001b[0;31m---------------------------------------------------------------------------\u001b[0m",
      "\u001b[0;31mTypeError\u001b[0m                                 Traceback (most recent call last)",
      "\u001b[0;32m/var/folders/x3/m3dk89cj2kz39h6hck1t4m840000gp/T/ipykernel_40149/224368630.py\u001b[0m in \u001b[0;36m<module>\u001b[0;34m\u001b[0m\n\u001b[0;32m----> 1\u001b[0;31m \u001b[0mtuner\u001b[0m \u001b[0;34m=\u001b[0m \u001b[0mTuner\u001b[0m\u001b[0;34m(\u001b[0m\u001b[0mparams_config\u001b[0m\u001b[0;34m,\u001b[0m \u001b[0mobjectives_config\u001b[0m\u001b[0;34m,\u001b[0m \u001b[0mmin_samples\u001b[0m\u001b[0;34m=\u001b[0m\u001b[0;36m20\u001b[0m\u001b[0;34m)\u001b[0m\u001b[0;34m\u001b[0m\u001b[0;34m\u001b[0m\u001b[0m\n\u001b[0m",
      "\u001b[0;31mTypeError\u001b[0m: __init__() got an unexpected keyword argument 'min_samples'"
     ]
    }
   ],
   "source": [
    "tuner = Tuner(params_config, objectives_config, min_samples=20)"
   ]
  },
  {
   "cell_type": "code",
   "execution_count": null,
   "metadata": {},
   "outputs": [],
   "source": [
    "results = tuner.tune(run, num_runs=200, n_jobs=1)"
   ]
  },
  {
   "cell_type": "code",
   "execution_count": null,
   "metadata": {},
   "outputs": [],
   "source": [
    "tuner.get_best_params()"
   ]
  },
  {
   "cell_type": "code",
   "execution_count": null,
   "metadata": {},
   "outputs": [],
   "source": [
    "tuner.get_best_scores()"
   ]
  },
  {
   "cell_type": "code",
   "execution_count": null,
   "metadata": {},
   "outputs": [],
   "source": [
    "leaderboard = tuner.get_leaderboard()"
   ]
  },
  {
   "cell_type": "code",
   "execution_count": 8,
   "metadata": {},
   "outputs": [
    {
     "ename": "TypeError",
     "evalue": "__init__() got an unexpected keyword argument 'min_samples'",
     "output_type": "error",
     "traceback": [
      "\u001b[0;31m---------------------------------------------------------------------------\u001b[0m",
      "\u001b[0;31mTypeError\u001b[0m                                 Traceback (most recent call last)",
      "\u001b[0;32m/var/folders/x3/m3dk89cj2kz39h6hck1t4m840000gp/T/ipykernel_40149/686422680.py\u001b[0m in \u001b[0;36m<module>\u001b[0;34m\u001b[0m\n\u001b[0;32m----> 1\u001b[0;31m \u001b[0mtuner_uniform\u001b[0m \u001b[0;34m=\u001b[0m \u001b[0mTuner\u001b[0m\u001b[0;34m(\u001b[0m\u001b[0mparams_config\u001b[0m\u001b[0;34m,\u001b[0m \u001b[0mobjectives_config\u001b[0m\u001b[0;34m,\u001b[0m \u001b[0mmin_samples\u001b[0m\u001b[0;34m=\u001b[0m\u001b[0;36m1000\u001b[0m\u001b[0;34m)\u001b[0m\u001b[0;34m\u001b[0m\u001b[0;34m\u001b[0m\u001b[0m\n\u001b[0m\u001b[1;32m      2\u001b[0m \u001b[0mtuner_uniform\u001b[0m\u001b[0;34m.\u001b[0m\u001b[0mtune\u001b[0m\u001b[0;34m(\u001b[0m\u001b[0mrun\u001b[0m\u001b[0;34m,\u001b[0m \u001b[0mnum_runs\u001b[0m\u001b[0;34m=\u001b[0m\u001b[0;36m200\u001b[0m\u001b[0;34m,\u001b[0m \u001b[0mn_jobs\u001b[0m\u001b[0;34m=\u001b[0m\u001b[0;36m1\u001b[0m\u001b[0;34m)\u001b[0m\u001b[0;34m\u001b[0m\u001b[0;34m\u001b[0m\u001b[0m\n\u001b[1;32m      3\u001b[0m \u001b[0mldr_uniform\u001b[0m \u001b[0;34m=\u001b[0m \u001b[0mtuner_uniform\u001b[0m\u001b[0;34m.\u001b[0m\u001b[0mget_leaderboard\u001b[0m\u001b[0;34m(\u001b[0m\u001b[0;34m)\u001b[0m\u001b[0;34m\u001b[0m\u001b[0;34m\u001b[0m\u001b[0m\n",
      "\u001b[0;31mTypeError\u001b[0m: __init__() got an unexpected keyword argument 'min_samples'"
     ]
    }
   ],
   "source": [
    "tuner_uniform = Tuner(params_config, objectives_config, min_samples=1000)\n",
    "tuner_uniform.tune(run, num_runs=200, n_jobs=1)\n",
    "ldr_uniform = tuner_uniform.get_leaderboard()"
   ]
  },
  {
   "cell_type": "code",
   "execution_count": 9,
   "metadata": {},
   "outputs": [
    {
     "ename": "NameError",
     "evalue": "name 'leaderboard' is not defined",
     "output_type": "error",
     "traceback": [
      "\u001b[0;31m---------------------------------------------------------------------------\u001b[0m",
      "\u001b[0;31mNameError\u001b[0m                                 Traceback (most recent call last)",
      "\u001b[0;32m/var/folders/x3/m3dk89cj2kz39h6hck1t4m840000gp/T/ipykernel_40149/1485133794.py\u001b[0m in \u001b[0;36m<module>\u001b[0;34m\u001b[0m\n\u001b[1;32m      5\u001b[0m \u001b[0;34m\u001b[0m\u001b[0m\n\u001b[1;32m      6\u001b[0m \u001b[0;34m\u001b[0m\u001b[0m\n\u001b[0;32m----> 7\u001b[0;31m \u001b[0mplt\u001b[0m\u001b[0;34m.\u001b[0m\u001b[0mplot\u001b[0m\u001b[0;34m(\u001b[0m\u001b[0mleaderboard\u001b[0m\u001b[0;34m[\u001b[0m\u001b[0;34m'x2'\u001b[0m\u001b[0;34m]\u001b[0m\u001b[0;34m,\u001b[0m\u001b[0mleaderboard\u001b[0m\u001b[0;34m[\u001b[0m\u001b[0;34m'x1'\u001b[0m\u001b[0;34m]\u001b[0m\u001b[0;34m,\u001b[0m \u001b[0mlinestyle\u001b[0m\u001b[0;34m=\u001b[0m\u001b[0;34m''\u001b[0m\u001b[0;34m,\u001b[0m \u001b[0mmarker\u001b[0m\u001b[0;34m=\u001b[0m\u001b[0;34m'o'\u001b[0m\u001b[0;34m,\u001b[0m \u001b[0mcolor\u001b[0m\u001b[0;34m=\u001b[0m\u001b[0;34m'r'\u001b[0m\u001b[0;34m)\u001b[0m\u001b[0;34m\u001b[0m\u001b[0;34m\u001b[0m\u001b[0m\n\u001b[0m\u001b[1;32m      8\u001b[0m \u001b[0;34m\u001b[0m\u001b[0m\n\u001b[1;32m      9\u001b[0m \u001b[0mplt\u001b[0m\u001b[0;34m.\u001b[0m\u001b[0mshow\u001b[0m\u001b[0;34m(\u001b[0m\u001b[0;34m)\u001b[0m\u001b[0;34m\u001b[0m\u001b[0;34m\u001b[0m\u001b[0m\n",
      "\u001b[0;31mNameError\u001b[0m: name 'leaderboard' is not defined"
     ]
    },
    {
     "data": {
      "image/png": "[encoded data removed]",
      "text/plain": [
       "<Figure size 576x576 with 2 Axes>"
      ]
     },
     "metadata": {
      "needs_background": "light"
     },
     "output_type": "display_data"
    }
   ],
   "source": [
    "plt.figure(figsize=(8,8))\n",
    "plt.imshow(f, extent=[0,1,1,0],aspect='auto')\n",
    "plt.colorbar()\n",
    "plt.grid(False)\n",
    "\n",
    "\n",
    "plt.plot(leaderboard['x2'],leaderboard['x1'], linestyle='', marker='o', color='r')\n",
    "\n",
    "plt.show()"
   ]
  },
  {
   "cell_type": "code",
   "execution_count": 10,
   "metadata": {},
   "outputs": [
    {
     "ename": "NameError",
     "evalue": "name 'leaderboard' is not defined",
     "output_type": "error",
     "traceback": [
      "\u001b[0;31m---------------------------------------------------------------------------\u001b[0m",
      "\u001b[0;31mNameError\u001b[0m                                 Traceback (most recent call last)",
      "\u001b[0;32m/var/folders/x3/m3dk89cj2kz39h6hck1t4m840000gp/T/ipykernel_40149/862790135.py\u001b[0m in \u001b[0;36m<module>\u001b[0;34m\u001b[0m\n\u001b[0;32m----> 1\u001b[0;31m \u001b[0mleaderboard\u001b[0m\u001b[0;34m.\u001b[0m\u001b[0miloc\u001b[0m\u001b[0;34m[\u001b[0m\u001b[0;34m:\u001b[0m\u001b[0;36m10\u001b[0m\u001b[0;34m]\u001b[0m\u001b[0;34m\u001b[0m\u001b[0;34m\u001b[0m\u001b[0m\n\u001b[0m",
      "\u001b[0;31mNameError\u001b[0m: name 'leaderboard' is not defined"
     ]
    }
   ],
   "source": [
    "leaderboard.iloc[:10]"
   ]
  },
  {
   "cell_type": "code",
   "execution_count": 11,
   "metadata": {},
   "outputs": [
    {
     "ename": "NameError",
     "evalue": "name 'leaderboard' is not defined",
     "output_type": "error",
     "traceback": [
      "\u001b[0;31m---------------------------------------------------------------------------\u001b[0m",
      "\u001b[0;31mNameError\u001b[0m                                 Traceback (most recent call last)",
      "\u001b[0;32m/var/folders/x3/m3dk89cj2kz39h6hck1t4m840000gp/T/ipykernel_40149/2306302449.py\u001b[0m in \u001b[0;36m<module>\u001b[0;34m\u001b[0m\n\u001b[1;32m      1\u001b[0m \u001b[0mplt\u001b[0m\u001b[0;34m.\u001b[0m\u001b[0mfigure\u001b[0m\u001b[0;34m(\u001b[0m\u001b[0mfigsize\u001b[0m\u001b[0;34m=\u001b[0m\u001b[0;34m(\u001b[0m\u001b[0;36m8\u001b[0m\u001b[0;34m,\u001b[0m\u001b[0;36m6\u001b[0m\u001b[0;34m)\u001b[0m\u001b[0;34m)\u001b[0m\u001b[0;34m\u001b[0m\u001b[0;34m\u001b[0m\u001b[0m\n\u001b[1;32m      2\u001b[0m \u001b[0;31m#plt.plot(leaderboard['run'],leaderboard['f'], marker='o', linestyle='')\u001b[0m\u001b[0;34m\u001b[0m\u001b[0;34m\u001b[0m\u001b[0;34m\u001b[0m\u001b[0m\n\u001b[0;32m----> 3\u001b[0;31m plt.plot(leaderboard.sort_values('run')['run'],leaderboard.sort_values('run')['f'].expanding().max(), \n\u001b[0m\u001b[1;32m      4\u001b[0m          marker='o', linestyle='', color='r', label='LAHO')\n\u001b[1;32m      5\u001b[0m plt.plot(ldr_uniform.sort_values('run')['run'],ldr_uniform.sort_values('run')['f'].expanding().max(),\n",
      "\u001b[0;31mNameError\u001b[0m: name 'leaderboard' is not defined"
     ]
    },
    {
     "data": {
      "text/plain": [
       "<Figure size 576x432 with 0 Axes>"
      ]
     },
     "metadata": {},
     "output_type": "display_data"
    }
   ],
   "source": [
    "plt.figure(figsize=(8,6))\n",
    "#plt.plot(leaderboard['run'],leaderboard['f'], marker='o', linestyle='')\n",
    "plt.plot(leaderboard.sort_values('run')['run'],leaderboard.sort_values('run')['f'].expanding().max(), \n",
    "         marker='o', linestyle='', color='r', label='LAHO')\n",
    "plt.plot(ldr_uniform.sort_values('run')['run'],ldr_uniform.sort_values('run')['f'].expanding().max(),\n",
    "         marker='o', linestyle='', color='b', label=\"uniform\")\n",
    "plt.ylim(0,1.1)\n",
    "plt.legend()\n",
    "plt.xlabel('run')\n",
    "plt.ylabel('best found value')\n",
    "plt.show()"
   ]
  },
  {
   "cell_type": "code",
   "execution_count": 12,
   "metadata": {},
   "outputs": [
    {
     "ename": "NameError",
     "evalue": "name 'leaderboard' is not defined",
     "output_type": "error",
     "traceback": [
      "\u001b[0;31m---------------------------------------------------------------------------\u001b[0m",
      "\u001b[0;31mNameError\u001b[0m                                 Traceback (most recent call last)",
      "\u001b[0;32m/var/folders/x3/m3dk89cj2kz39h6hck1t4m840000gp/T/ipykernel_40149/2721391290.py\u001b[0m in \u001b[0;36m<module>\u001b[0;34m\u001b[0m\n\u001b[0;32m----> 1\u001b[0;31m \u001b[0mleaderboard\u001b[0m\u001b[0;34m[\u001b[0m\u001b[0;34m'z1'\u001b[0m\u001b[0;34m]\u001b[0m \u001b[0;34m=\u001b[0m \u001b[0;34m(\u001b[0m\u001b[0mleaderboard\u001b[0m\u001b[0;34m[\u001b[0m\u001b[0;34m'x1'\u001b[0m\u001b[0;34m]\u001b[0m\u001b[0;34m*\u001b[0m\u001b[0mN\u001b[0m\u001b[0;34m)\u001b[0m\u001b[0;34m.\u001b[0m\u001b[0mastype\u001b[0m\u001b[0;34m(\u001b[0m\u001b[0mint\u001b[0m\u001b[0;34m)\u001b[0m\u001b[0;34m\u001b[0m\u001b[0;34m\u001b[0m\u001b[0m\n\u001b[0m\u001b[1;32m      2\u001b[0m \u001b[0mleaderboard\u001b[0m\u001b[0;34m[\u001b[0m\u001b[0;34m'z2'\u001b[0m\u001b[0;34m]\u001b[0m \u001b[0;34m=\u001b[0m \u001b[0;34m(\u001b[0m\u001b[0mleaderboard\u001b[0m\u001b[0;34m[\u001b[0m\u001b[0;34m'x2'\u001b[0m\u001b[0;34m]\u001b[0m\u001b[0;34m*\u001b[0m\u001b[0mN\u001b[0m\u001b[0;34m)\u001b[0m\u001b[0;34m.\u001b[0m\u001b[0mastype\u001b[0m\u001b[0;34m(\u001b[0m\u001b[0mint\u001b[0m\u001b[0;34m)\u001b[0m\u001b[0;34m\u001b[0m\u001b[0;34m\u001b[0m\u001b[0m\n",
      "\u001b[0;31mNameError\u001b[0m: name 'leaderboard' is not defined"
     ]
    }
   ],
   "source": [
    "leaderboard['z1'] = (leaderboard['x1']*N).astype(int)\n",
    "leaderboard['z2'] = (leaderboard['x2']*N).astype(int)"
   ]
  },
  {
   "cell_type": "code",
   "execution_count": 38,
   "metadata": {},
   "outputs": [
    {
     "data": {
      "text/html": [
       "<div>\n",
       "<style scoped>\n",
       "    .dataframe tbody tr th:only-of-type {\n",
       "        vertical-align: middle;\n",
       "    }\n",
       "\n",
       "    .dataframe tbody tr th {\n",
       "        vertical-align: top;\n",
       "    }\n",
       "\n",
       "    .dataframe thead th {\n",
       "        text-align: right;\n",
       "    }\n",
       "</style>\n",
       "<table border=\"1\" class=\"dataframe\">\n",
       "  <thead>\n",
       "    <tr style=\"text-align: right;\">\n",
       "      <th></th>\n",
       "      <th>run</th>\n",
       "      <th>x1</th>\n",
       "      <th>x2</th>\n",
       "      <th>f</th>\n",
       "      <th>score</th>\n",
       "      <th>z1</th>\n",
       "      <th>z2</th>\n",
       "    </tr>\n",
       "  </thead>\n",
       "  <tbody>\n",
       "    <tr>\n",
       "      <th>173</th>\n",
       "      <td>0</td>\n",
       "      <td>0.967030</td>\n",
       "      <td>0.547232</td>\n",
       "      <td>6.861224e-26</td>\n",
       "      <td>1.000000</td>\n",
       "      <td>58</td>\n",
       "      <td>32</td>\n",
       "    </tr>\n",
       "    <tr>\n",
       "      <th>166</th>\n",
       "      <td>1</td>\n",
       "      <td>0.714816</td>\n",
       "      <td>0.697729</td>\n",
       "      <td>3.806021e-08</td>\n",
       "      <td>1.000000</td>\n",
       "      <td>42</td>\n",
       "      <td>41</td>\n",
       "    </tr>\n",
       "    <tr>\n",
       "      <th>174</th>\n",
       "      <td>2</td>\n",
       "      <td>0.976274</td>\n",
       "      <td>0.006230</td>\n",
       "      <td>0.000000e+00</td>\n",
       "      <td>1.000000</td>\n",
       "      <td>58</td>\n",
       "      <td>0</td>\n",
       "    </tr>\n",
       "    <tr>\n",
       "      <th>157</th>\n",
       "      <td>3</td>\n",
       "      <td>0.434792</td>\n",
       "      <td>0.779383</td>\n",
       "      <td>3.547427e-02</td>\n",
       "      <td>0.964526</td>\n",
       "      <td>26</td>\n",
       "      <td>46</td>\n",
       "    </tr>\n",
       "    <tr>\n",
       "      <th>175</th>\n",
       "      <td>4</td>\n",
       "      <td>0.862993</td>\n",
       "      <td>0.983401</td>\n",
       "      <td>2.154100e-26</td>\n",
       "      <td>1.000000</td>\n",
       "      <td>51</td>\n",
       "      <td>59</td>\n",
       "    </tr>\n",
       "    <tr>\n",
       "      <th>...</th>\n",
       "      <td>...</td>\n",
       "      <td>...</td>\n",
       "      <td>...</td>\n",
       "      <td>...</td>\n",
       "      <td>...</td>\n",
       "      <td>...</td>\n",
       "      <td>...</td>\n",
       "    </tr>\n",
       "    <tr>\n",
       "      <th>80</th>\n",
       "      <td>195</td>\n",
       "      <td>0.433988</td>\n",
       "      <td>0.717278</td>\n",
       "      <td>5.321257e-01</td>\n",
       "      <td>0.467874</td>\n",
       "      <td>26</td>\n",
       "      <td>43</td>\n",
       "    </tr>\n",
       "    <tr>\n",
       "      <th>82</th>\n",
       "      <td>196</td>\n",
       "      <td>0.382613</td>\n",
       "      <td>0.741633</td>\n",
       "      <td>5.229357e-01</td>\n",
       "      <td>0.477064</td>\n",
       "      <td>22</td>\n",
       "      <td>44</td>\n",
       "    </tr>\n",
       "    <tr>\n",
       "      <th>26</th>\n",
       "      <td>197</td>\n",
       "      <td>0.384334</td>\n",
       "      <td>0.723602</td>\n",
       "      <td>8.680294e-01</td>\n",
       "      <td>0.131971</td>\n",
       "      <td>23</td>\n",
       "      <td>43</td>\n",
       "    </tr>\n",
       "    <tr>\n",
       "      <th>67</th>\n",
       "      <td>198</td>\n",
       "      <td>0.420114</td>\n",
       "      <td>0.727464</td>\n",
       "      <td>5.970026e-01</td>\n",
       "      <td>0.402997</td>\n",
       "      <td>25</td>\n",
       "      <td>43</td>\n",
       "    </tr>\n",
       "    <tr>\n",
       "      <th>169</th>\n",
       "      <td>199</td>\n",
       "      <td>0.213632</td>\n",
       "      <td>0.541940</td>\n",
       "      <td>2.020907e-13</td>\n",
       "      <td>1.000000</td>\n",
       "      <td>12</td>\n",
       "      <td>32</td>\n",
       "    </tr>\n",
       "  </tbody>\n",
       "</table>\n",
       "<p>200 rows × 7 columns</p>\n",
       "</div>"
      ],
      "text/plain": [
       "     run        x1        x2             f     score  z1  z2\n",
       "173    0  0.967030  0.547232  6.861224e-26  1.000000  58  32\n",
       "166    1  0.714816  0.697729  3.806021e-08  1.000000  42  41\n",
       "174    2  0.976274  0.006230  0.000000e+00  1.000000  58   0\n",
       "157    3  0.434792  0.779383  3.547427e-02  0.964526  26  46\n",
       "175    4  0.862993  0.983401  2.154100e-26  1.000000  51  59\n",
       "..   ...       ...       ...           ...       ...  ..  ..\n",
       "80   195  0.433988  0.717278  5.321257e-01  0.467874  26  43\n",
       "82   196  0.382613  0.741633  5.229357e-01  0.477064  22  44\n",
       "26   197  0.384334  0.723602  8.680294e-01  0.131971  23  43\n",
       "67   198  0.420114  0.727464  5.970026e-01  0.402997  25  43\n",
       "169  199  0.213632  0.541940  2.020907e-13  1.000000  12  32\n",
       "\n",
       "[200 rows x 7 columns]"
      ]
     },
     "execution_count": 38,
     "metadata": {},
     "output_type": "execute_result"
    }
   ],
   "source": [
    "leaderboard = leaderboard.sort_values('run')\n",
    "leaderboard"
   ]
  },
  {
   "cell_type": "code",
   "execution_count": 39,
   "metadata": {},
   "outputs": [
    {
     "name": "stderr",
     "output_type": "stream",
     "text": [
      "/Users/gmaher/anaconda3/lib/python3.6/site-packages/matplotlib/figure.py:2369: UserWarning: This figure includes Axes that are not compatible with tight_layout, so results might be incorrect.\n",
      "  warnings.warn(\"This figure includes Axes that are not compatible \"\n"
     ]
    },
    {
     "data": {
      "image/png": "[encoded data removed]",
      "text/plain": [
       "<Figure size 576x576 with 1 Axes>"
      ]
     },
     "metadata": {
      "needs_background": "light"
     },
     "output_type": "display_data"
    }
   ],
   "source": [
    "points = leaderboard[['z1','z2']].values\n",
    "scores = leaderboard['f'].values\n",
    "\n",
    "S = np.zeros((N,N))\n",
    "S[:,:] = None\n",
    "\n",
    "ims = []\n",
    "\n",
    "fig = plt.figure(figsize=(8,8))\n",
    "plt.grid(False)\n",
    "#plt.title(\"Portfolio IR\")\n",
    "plt.xlabel(\"x1\")\n",
    "plt.ylabel(\"x2\")\n",
    "#plt.colorbar()\n",
    "\n",
    "for i in range(len(scores)):\n",
    "    p = points[i]\n",
    "    S[p[0],p[1]] = scores[i]\n",
    "    \n",
    "    im = plt.imshow(S, extent=[0,1,1,0],aspect='auto',vmin=0,vmax=1)\n",
    "    ims.append([im])\n",
    "    \n",
    "ani = animation.ArtistAnimation(fig, ims, interval=20, blit=True,\n",
    "                                repeat_delay=0, repeat=True)\n",
    "\n",
    "writer = PillowWriter(fps=50)\n",
    "ani.save(\"./results/demo.gif\", writer=writer)\n",
    "\n",
    "plt.show()"
   ]
  },
  {
   "cell_type": "code",
   "execution_count": 40,
   "metadata": {},
   "outputs": [
    {
     "data": {
      "image/png": "[encoded data removed]",
      "text/plain": [
       "<Figure size 576x576 with 2 Axes>"
      ]
     },
     "metadata": {
      "needs_background": "light"
     },
     "output_type": "display_data"
    }
   ],
   "source": [
    "plt.figure(figsize=(8,8))\n",
    "plt.imshow(S, extent=[0,1,1,0],aspect='auto')\n",
    "plt.colorbar()\n",
    "plt.grid(False)\n",
    "plt.show()"
   ]
  },
  {
   "cell_type": "code",
   "execution_count": 41,
   "metadata": {},
   "outputs": [
    {
     "data": {
      "text/plain": [
       "200"
      ]
     },
     "execution_count": 41,
     "metadata": {},
     "output_type": "execute_result"
    }
   ],
   "source": [
    "len(ims)"
   ]
  },
  {
   "cell_type": "code",
   "execution_count": 42,
   "metadata": {},
   "outputs": [
    {
     "data": {
      "text/plain": [
       "[<matplotlib.image.AxesImage at 0x7fe38110a278>]"
      ]
     },
     "execution_count": 42,
     "metadata": {},
     "output_type": "execute_result"
    }
   ],
   "source": [
    "ims[0]"
   ]
  },
  {
   "cell_type": "code",
   "execution_count": null,
   "metadata": {},
   "outputs": [],
   "source": []
  },
  {
   "cell_type": "code",
   "execution_count": null,
   "metadata": {},
   "outputs": [],
   "source": []
  }
 ],
 "metadata": {
  "kernelspec": {
   "display_name": "Python [conda env:laho]",
   "language": "python",
   "name": "conda-env-laho-py"
  },
  "language_info": {
   "codemirror_mode": {
    "name": "ipython",
    "version": 3
   },
   "file_extension": ".py",
   "mimetype": "text/x-python",
   "name": "python",
   "nbconvert_exporter": "python",
   "pygments_lexer": "ipython3",
   "version": "3.8.12"
  }
 },
 "nbformat": 4,
 "nbformat_minor": 2
}
